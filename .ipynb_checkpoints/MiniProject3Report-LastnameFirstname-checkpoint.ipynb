{
 "cells": [
  {
   "cell_type": "markdown",
   "metadata": {},
   "source": [
    "# Mini Project 3 Report"
   ]
  },
  {
   "cell_type": "markdown",
   "metadata": {},
   "source": [
    "Your name: `here`"
   ]
  },
  {
   "cell_type": "code",
   "execution_count": 1,
   "metadata": {},
   "outputs": [],
   "source": [
    "%matplotlib inline\n",
    "import math "
   ]
  },
  {
   "cell_type": "markdown",
   "metadata": {},
   "source": [
    "## Results"
   ]
  },
  {
   "cell_type": "markdown",
   "metadata": {},
   "source": [
    "- Attempt these problems only after you have finished and tested your implementation.\n",
    "- If you modify any of the python files, remember to \"restart the kernel\" or else the changes will not take effect.\n",
    "- You will need to modify the code below, perhaps adding some nice print statements or adding your results to a table.\n",
    "\n",
    "We would like to see a the following tables/figures:\n",
    "\n",
    "1. A few different initial conditions for the weights of your CNN and what the performance of the converged network was on the test set.\n",
    "2. For the few different architectures listed in the assignment, what were the respective performances on the test set.\n",
    "3. For your best-performing network, a [confusion matrix](https://towardsdatascience.com/understanding-confusion-matrix-a9ad42dcfd62) for each class of \"true\" versus \"predicted\" labels.\n",
    "4. A table of figures of a few correctly-labeled and mistlabeled cases.\n",
    "5. For your best-performing network, what was the [loss versus epoch/iteration](https://towardsdatascience.com/useful-plots-to-diagnose-your-neural-network-521907fa2f45)."
   ]
  },
  {
   "cell_type": "markdown",
   "metadata": {},
   "source": [
    "`Put your table with results here!` You may [create a table using markdown](https://www.tablesgenerator.com/markdown_tables) (below) or print a nicely formatted table using a library such as Pandas.\n",
    "\n",
    "| Col 1  | Col 2   |  Col 3 |\n",
    "|---  |---  |---  |\n",
    "|  a1 | a2  |  a3 |\n",
    "|  b1 | b2  |  b3 |"
   ]
  },
  {
   "cell_type": "markdown",
   "metadata": {},
   "source": [
    "Write a brief analysis of your results. Some questions to answer:\n",
    "- Which architecture conducted inference the fastest? Why do you think this is the case?\n",
    "- Which architecture took the longest to train?\n",
    "- How similar were the classification accuracies across the various architectures you tested?\n",
    "- What modifications could you make to improve your results?\n",
    "- Was there anything else interesting in your results?"
   ]
  },
  {
   "cell_type": "markdown",
   "metadata": {},
   "source": [
    "`Your answer here.`"
   ]
  },
  {
   "cell_type": "markdown",
   "metadata": {},
   "source": [
    "## Describe Your Implementation and Reflect"
   ]
  },
  {
   "cell_type": "markdown",
   "metadata": {},
   "source": [
    "Some questions to answer in your write-up:\n",
    "- What was your strategy to solve this problem?\n",
    "- How did you come to your solutions for the forward and backward layers?\n",
    "- What other files or methods did you change?\n",
    "- What was the most difficult part of the project?\n",
    "- What was something surprising you found?\n",
    "\n",
    "Please provide some elaboration with your answers. When describing your implementation, remember that we have not watched you solve this problem so you will need to give more details than you think is necessary."
   ]
  },
  {
   "cell_type": "markdown",
   "metadata": {},
   "source": [
    "`Your answer here.`"
   ]
  },
  {
   "cell_type": "markdown",
   "metadata": {},
   "source": [
    "## Going Above and Beyond\n",
    "If you implement any additional features for extra credit, clearly describe them here with pointers to any code in your notebook or other files if applicable."
   ]
  },
  {
   "cell_type": "markdown",
   "metadata": {},
   "source": [
    "`Your answer here.`"
   ]
  },
  {
   "cell_type": "markdown",
   "metadata": {},
   "source": [
    "Describe the analysis you did and provide your results in the form of a figure or a table."
   ]
  },
  {
   "cell_type": "markdown",
   "metadata": {},
   "source": [
    "`Your answer here.`"
   ]
  },
  {
   "cell_type": "markdown",
   "metadata": {},
   "source": [
    "Reflect on your work for this section. What was interesting, or what did you learn? A short paragraph here is fine."
   ]
  },
  {
   "cell_type": "markdown",
   "metadata": {},
   "source": [
    "`Your answer here.`"
   ]
  }
 ],
 "metadata": {
  "kernelspec": {
   "display_name": "Python 3",
   "language": "python",
   "name": "python3"
  },
  "language_info": {
   "codemirror_mode": {
    "name": "ipython",
    "version": 3
   },
   "file_extension": ".py",
   "mimetype": "text/x-python",
   "name": "python",
   "nbconvert_exporter": "python",
   "pygments_lexer": "ipython3",
   "version": "3.6.8"
  }
 },
 "nbformat": 4,
 "nbformat_minor": 5
}
